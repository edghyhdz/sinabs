{
 "cells": [
  {
   "cell_type": "markdown",
   "metadata": {},
   "source": [
    "# Choosing the right neuron model"
   ]
  },
  {
   "cell_type": "code",
   "execution_count": null,
   "metadata": {},
   "outputs": [],
   "source": [
    "import sinabs\n",
    "import sinabs.layers as sl\n",
    "import torch\n",
    "import matplotlib.pyplot as plt"
   ]
  },
  {
   "cell_type": "markdown",
   "metadata": {},
   "source": [
    "Let's start by creating a helpful plotting function and some constant current input."
   ]
  },
  {
   "cell_type": "code",
   "execution_count": null,
   "metadata": {},
   "outputs": [],
   "source": [
    "def plot_evolution(neuron_model: sinabs.layers, input: torch.Tensor):\n",
    "    time_steps = input.shape[1]\n",
    "\n",
    "    neuron_model.reset_states()\n",
    "    v_mem = []\n",
    "    spikes = []\n",
    "    for step in range(time_steps):\n",
    "        output = neuron_model(input[:, step])\n",
    "        v_mem.append(neuron_model.v_mem.detach().numpy())\n",
    "        spikes.append(output.sum().detach().numpy())\n",
    "    \n",
    "    plt.plot(v_mem, label='v_mem')\n",
    "    plt.plot(spikes, label='spike activation', drawstyle='steps', linewidth=2)\n",
    "    if neuron_model.activation_fn:\n",
    "        plt.plot([neuron_model.activation_fn.spike_threshold] * time_steps, '--', label='spike threshold', )\n",
    "    plt.xlabel('time')\n",
    "    plt.title(f\"{neuron_model.__class__.__name__} neuron dynamics\")\n",
    "    plt.legend()\n",
    "\n",
    "input = torch.ones((1, 300, 1)) * 0.03"
   ]
  },
  {
   "cell_type": "markdown",
   "metadata": {},
   "source": [
    "## Integrate and Fire neuron\n",
    "This neuron has no leakage and simply integrates all the input it receives."
   ]
  },
  {
   "cell_type": "code",
   "execution_count": null,
   "metadata": {},
   "outputs": [],
   "source": [
    "iaf_neuron = sl.IAF()\n",
    "plot_evolution(iaf_neuron, input)"
   ]
  },
  {
   "cell_type": "markdown",
   "metadata": {},
   "source": [
    "## Leaky Integrate and Fire neuron\n",
    "This neuron integrates the input and decays its state at every time step. It emits a spike whenever the membrane potential is above the spike threshold"
   ]
  },
  {
   "cell_type": "code",
   "execution_count": null,
   "metadata": {},
   "outputs": [],
   "source": [
    "lif_neuron = sl.LIF(tau_mem=40., norm_input=False)\n",
    "plot_evolution(lif_neuron, input)"
   ]
  },
  {
   "cell_type": "markdown",
   "metadata": {},
   "source": [
    "## Leaky integrator neuron\n",
    "Same as LIF, just without activation function."
   ]
  },
  {
   "cell_type": "code",
   "execution_count": null,
   "metadata": {},
   "outputs": [],
   "source": [
    "exp_leak_neuron = sl.ExpLeak(tau_leak=40.)\n",
    "plot_evolution(exp_leak_neuron, input)"
   ]
  },
  {
   "cell_type": "markdown",
   "metadata": {},
   "source": [
    "## Adaptive Leaky Integrate and Fire neuron\n",
    "This is a LIF neuron with an adaptive threshold."
   ]
  },
  {
   "cell_type": "code",
   "execution_count": null,
   "metadata": {},
   "outputs": [],
   "source": [
    "alif_neuron = sl.ALIF(tau_mem=40., tau_adapt=10.)\n",
    "plot_evolution(alif_neuron, input)"
   ]
  },
  {
   "cell_type": "code",
   "execution_count": null,
   "metadata": {},
   "outputs": [],
   "source": []
  }
 ],
 "metadata": {
  "interpreter": {
   "hash": "5931241afb711235dda64ee4fe99a453ecee36036d1d9ee62f788faeb386adff"
  },
  "kernelspec": {
   "display_name": "Python 3.7.11 ('base')",
   "language": "python",
   "name": "python3"
  },
  "language_info": {
   "codemirror_mode": {
    "name": "ipython",
    "version": 3
   },
   "file_extension": ".py",
   "mimetype": "text/x-python",
   "name": "python",
   "nbconvert_exporter": "python",
   "pygments_lexer": "ipython3",
   "version": "3.7.11"
  }
 },
 "nbformat": 4,
 "nbformat_minor": 2
}
