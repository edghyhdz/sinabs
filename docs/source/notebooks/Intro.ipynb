{
 "cells": [
  {
   "cell_type": "markdown",
   "metadata": {},
   "source": [
    "# 1. Define a spiking network"
   ]
  },
  {
   "cell_type": "code",
   "execution_count": 1,
   "metadata": {},
   "outputs": [],
   "source": [
    "%load_ext blackcellmagic\n",
    "import torch\n",
    "import torch.nn as nn\n",
    "import sinabs.layers as sl"
   ]
  },
  {
   "cell_type": "code",
   "execution_count": 2,
   "metadata": {},
   "outputs": [],
   "source": [
    "class MySNN(nn.Module):\n",
    "    def __init__(self):\n",
    "        super(MySNN, self).__init__()\n",
    "        # Spiking Input Layer\n",
    "        self.input1 = sl.InputLayer(input_shape=(1, 64, 64), layer_name=\"input_1\")\n",
    "\n",
    "        # Spiking Conv layer\n",
    "        self.conv1 = sl.SpikingConv2dLayer(\n",
    "            channels_in=1,\n",
    "            image_shape=(64, 64),\n",
    "            channels_out=6,\n",
    "            kernel_shape=(5, 5),\n",
    "            layer_name=\"conv_1\",\n",
    "        )\n",
    "\n",
    "        # Spiking SumPooling layer\n",
    "        self.pool1 = sl.SumPooling2dLayer(\n",
    "            image_shape=(60, 60), pool_size=(3, 3), layer_name=\"pool_1\"\n",
    "        )\n",
    "\n",
    "        # Spiking Conv layer\n",
    "        self.conv2 = sl.SpikingConv2dLayer(\n",
    "            channels_in=6,\n",
    "            image_shape=(20, 20),\n",
    "            channels_out=6,\n",
    "            kernel_shape=(5, 5),\n",
    "            layer_name=\"conv_2\",\n",
    "        )\n",
    "\n",
    "        # Spiking SumPooling layer\n",
    "        self.pool2 = sl.SumPooling2dLayer(\n",
    "            image_shape=(16, 16), pool_size=(4, 4), layer_name=\"pool_2\"\n",
    "        )\n",
    "\n",
    "        # Generating an Equivalent Spiking Dense Layer\n",
    "        self.flatten1 = sl.FlattenLayer(input_shape=(6, 4, 4), layer_name=\"flatten_1\")\n",
    "        self.conv3 = sl.SpikingConv2dLayer(\n",
    "            channels_in=96,\n",
    "            image_shape=(1, 1),\n",
    "            channels_out=10,\n",
    "            kernel_shape=(1, 1),\n",
    "            layer_name=\"conv_3\",\n",
    "        )\n",
    "\n",
    "    def forward(self, x):\n",
    "        # Define your graph\n",
    "        x = self.input1(x)\n",
    "        x = self.conv1(x)\n",
    "        x = self.pool1(x)\n",
    "        x = self.conv2(x)\n",
    "        x = self.pool2(x)\n",
    "        x = self.flatten1(x)\n",
    "        x = x.unsqueeze(-1).unsqueeze(-1)\n",
    "        x = self.conv3(x)\n",
    "        out = x.squeeze()\n",
    "        return out\n"
   ]
  },
  {
   "cell_type": "code",
   "execution_count": 3,
   "metadata": {},
   "outputs": [
    {
     "name": "stdout",
     "output_type": "stream",
     "text": [
      "MySNN(\n",
      "  (input1): InputLayer()\n",
      "  (conv1): SpikingConv2dLayer(\n",
      "    (conv): Conv2d(1, 6, kernel_size=(5, 5), stride=(1, 1))\n",
      "  )\n",
      "  (pool1): SumPooling2dLayer(\n",
      "    (pool): LPPool2d(norm_type=1, kernel_size=(3, 3), stride=(3, 3), ceil_mode=False)\n",
      "  )\n",
      "  (conv2): SpikingConv2dLayer(\n",
      "    (conv): Conv2d(6, 6, kernel_size=(5, 5), stride=(1, 1))\n",
      "  )\n",
      "  (pool2): SumPooling2dLayer(\n",
      "    (pool): LPPool2d(norm_type=1, kernel_size=(4, 4), stride=(4, 4), ceil_mode=False)\n",
      "  )\n",
      "  (flatten1): FlattenLayer()\n",
      "  (conv3): SpikingConv2dLayer(\n",
      "    (conv): Conv2d(96, 10, kernel_size=(1, 1), stride=(1, 1))\n",
      "  )\n",
      ")\n"
     ]
    }
   ],
   "source": [
    "snn = MySNN()\n",
    "print(snn)"
   ]
  },
  {
   "cell_type": "code",
   "execution_count": 4,
   "metadata": {},
   "outputs": [
    {
     "name": "stdout",
     "output_type": "stream",
     "text": [
      "torch.Size([100, 10])\n"
     ]
    }
   ],
   "source": [
    "input_data = torch.randn(100, 1, 64, 64)\n",
    "output_data = snn(input_data)\n",
    "print(output_data.shape)"
   ]
  }
 ],
 "metadata": {
  "kernelspec": {
   "display_name": "Python 3",
   "language": "python",
   "name": "python3"
  },
  "language_info": {
   "codemirror_mode": {
    "name": "ipython",
    "version": 3
   },
   "file_extension": ".py",
   "mimetype": "text/x-python",
   "name": "python",
   "nbconvert_exporter": "python",
   "pygments_lexer": "ipython3",
   "version": "3.7.2"
  }
 },
 "nbformat": 4,
 "nbformat_minor": 2
}
