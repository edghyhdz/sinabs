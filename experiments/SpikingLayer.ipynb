{
 "cells": [
  {
   "cell_type": "code",
   "execution_count": 1,
   "metadata": {},
   "outputs": [],
   "source": [
    "import torch\n",
    "from tqdm.notebook import tqdm\n",
    "import torch.nn as nn\n",
    "import numpy as np\n",
    "from sinabs.layers.functional import threshold_subtract, threshold_reset \n",
    "from sinabs.layers import Layer\n",
    "# - Type alias for array-like objects\n",
    "from typing import Optional, Union, List, Tuple\n",
    "ArrayLike = Union[np.ndarray, List, Tuple]\n",
    "from abc import abstractmethod\n",
    "import warnings"
   ]
  },
  {
   "cell_type": "code",
   "execution_count": 2,
   "metadata": {},
   "outputs": [],
   "source": [
    "class SpikingLayer(Layer):\n",
    "    def __init__(\n",
    "        self,\n",
    "        input_shape: ArrayLike,\n",
    "        threshold: float = 1.0,\n",
    "        threshold_low: Optional[float] = -1.0,\n",
    "        membrane_subtract: Optional[float] = 1.0,\n",
    "        membrane_reset: float = 0,\n",
    "        layer_name: str = \"spiking\",\n",
    "        negative_spikes: bool = False\n",
    "    ):\n",
    "        \"\"\"\n",
    "        Pytorch implementation of a spiking neuron.\n",
    "        This class is the base class for any layer that need to implement integrate-and-fire operations.\n",
    "\n",
    "        :param input_shape: Input data shape\n",
    "        :param threshold: Spiking threshold of the neuron\n",
    "        :param threshold_low: Lowerbound for membrane potential\n",
    "        :param membrane_subtract: Upon spiking if the membrane potential is subtracted as opposed to reset, what is its value\n",
    "        :param membrane_reset: What is the reset membrane potential of the neuron\n",
    "        :param layer_name: Name of this layer\n",
    "        :param negative_spikes: Implement a linear transfer function through negative spiking\n",
    "\n",
    "        NOTE: SUBTRACT superseeds Reset value\n",
    "        \"\"\"\n",
    "        super().__init__(input_shape=input_shape, layer_name=layer_name)\n",
    "        # Initialize neuron states\n",
    "        self.membrane_subtract = membrane_subtract\n",
    "        self.membrane_reset = membrane_reset\n",
    "        self.threshold = threshold\n",
    "        self.threshold_low = threshold_low\n",
    "        self.negative_spikes = negative_spikes\n",
    "\n",
    "        # Blank parameter place holders\n",
    "        self.register_buffer(\"state\", torch.zeros(1))\n",
    "        self.register_buffer(\"activations\", torch.zeros(1))\n",
    "        self.spikes_number = None\n",
    "\n",
    "    @property\n",
    "    def threshold_low(self):\n",
    "        return self._threshold_low\n",
    "\n",
    "    @threshold_low.setter\n",
    "    def threshold_low(self, new_threshold_low):\n",
    "        self._threshold_low = new_threshold_low\n",
    "        if new_threshold_low is None:\n",
    "            try:\n",
    "                del self.thresh_lower\n",
    "            except AttributeError:\n",
    "                pass\n",
    "        else:\n",
    "            # Relu on the layer\n",
    "            self.thresh_lower = nn.Threshold(new_threshold_low, new_threshold_low)\n",
    "\n",
    "    def reset_states(self, shape=None):\n",
    "        \"\"\"\n",
    "        Reset the state of all neurons in this layer\n",
    "        \"\"\"\n",
    "        if shape is None:\n",
    "            shape = self.state.shape\n",
    "        self.state = torch.zeros(shape, device=self.state.device)\n",
    "        self.activations = torch.zeros(shape, device=self.state.device)\n",
    "\n",
    "    @abstractmethod\n",
    "    def synaptic_output(self, input_spikes: torch.Tensor) -> torch.Tensor:\n",
    "        \"\"\"\n",
    "        This method needs to be overridden/defined by the child class\n",
    "\n",
    "        :param input_spikes: torch.Tensor input to the layer.\n",
    "        :return:  torch.Tensor - synaptic output current\n",
    "        \"\"\"\n",
    "        pass\n",
    "\n",
    "    def forward(self, binary_input: torch.Tensor):\n",
    "        # Determine no. of time steps from input\n",
    "        neg_spikes = self.negative_spikes\n",
    "\n",
    "        # Compute the synaptic current\n",
    "        syn_out: torch.Tensor = self.synaptic_output(binary_input)\n",
    "        time_steps = len(syn_out)\n",
    "\n",
    "        # Local variables\n",
    "        membrane_subtract = self.membrane_subtract\n",
    "        threshold = self.threshold\n",
    "        threshold_low = self.threshold_low\n",
    "        membrane_reset = self.membrane_reset\n",
    "\n",
    "        # Create a vector to hold all output spikes\n",
    "        spikes = []\n",
    "\n",
    "        # Initialize state as required\n",
    "        state = self.state\n",
    "        if state.shape != syn_out.shape[1:]:\n",
    "            self.reset_states(shape=syn_out.shape[1:])\n",
    "            \n",
    "        activations = self.activations\n",
    "        # Loop over time steps\n",
    "        for iCurrentTimeStep in range(time_steps):\n",
    "            # update neuron states\n",
    "            state = syn_out[iCurrentTimeStep] + state - activations*threshold\n",
    "            # generate spikes\n",
    "            activations = threshold_subtract(state, threshold, threshold/2)\n",
    "            spikes.append(activations)\n",
    "\n",
    "        self.state = state\n",
    "        self.tw = time_steps\n",
    "        self.activations = activations\n",
    "        all_spikes = torch.stack(spikes)\n",
    "        spikes_number = all_spikes.sum()\n",
    "        return all_spikes"
   ]
  },
  {
   "cell_type": "code",
   "execution_count": 3,
   "metadata": {},
   "outputs": [],
   "source": [
    "class SpikeSomaLayer(SpikingLayer):\n",
    "    def synaptic_output(self, input_current: torch.Tensor) -> torch.Tensor:\n",
    "        \"\"\"\n",
    "        This method needs to be overridden/defined by the child class\n",
    "\n",
    "        :param input_spikes: torch.Tensor input to the layer.\n",
    "        :return:  torch.Tensor - synaptic output current\n",
    "        \"\"\"\n",
    "        return input_current\n",
    "    \n",
    "    def get_output_shape(self, in_shape):\n",
    "        return in_inshape"
   ]
  },
  {
   "cell_type": "code",
   "execution_count": 4,
   "metadata": {},
   "outputs": [],
   "source": [
    "class MyRNN(nn.Module):\n",
    "    def __init__(self, n_inp=28, n_neurons=100, n_out=10, decay=0.8):\n",
    "        super().__init__()\n",
    "        self.n_inp = n_inp\n",
    "        self.n_neurons = n_neurons\n",
    "        self.n_out = n_out\n",
    "        self.v_th = 1.0\n",
    "        # Feed forward input\n",
    "        self.inp_linear = nn.Linear(n_inp, n_neurons, bias=False)\n",
    "        # Recurrent pool of neurons\n",
    "        self.rec = nn.Linear(n_neurons, n_neurons, bias=False)\n",
    "        self.rec_neurons = SpikeSomaLayer(input_shape=n_neurons)\n",
    "        # Feedforward output\n",
    "        self.out_linear = nn.Linear(n_neurons, n_out, bias=False)\n",
    "        self.out_neurons = SpikeSomaLayer(input_shape=n_out)\n",
    "        self.init_states()\n",
    "\n",
    "    def init_states(self, randomize=True, batch_size=1):\n",
    "        self.rec_neurons.reset_states(shape=(batch_size,self.n_neurons))\n",
    "        self.out_neurons.reset_states(shape=(batch_size, self.n_out))\n",
    "\n",
    "    def forward(self, inp) -> (torch.Tensor, torch.Tensor):\n",
    "        activations = self.rec_neurons.activations\n",
    "        # all_rec_spikes = []\n",
    "        all_out_spikes = []\n",
    "        for row in range(inp.shape[1]):\n",
    "            # Readout layer\n",
    "            out_linear = self.out_linear(activations)\n",
    "            out = self.out_neurons(out_linear.unsqueeze(0)).squeeze(0)\n",
    "            assert out.shape == (128, 10)\n",
    "            all_out_spikes.append(out)\n",
    "            # Recurrent input\n",
    "            recurrent_inputs = self.rec(activations)  # Recurrent input\n",
    "            # Input activations\n",
    "            input_ext = self.inp_linear(inp[:, row])  # External input\n",
    "            activations = self.rec_neurons(\n",
    "                (input_ext + recurrent_inputs).unsqueeze(0)\n",
    "            ).squeeze(0)  # recurrent spiking neuron output\n",
    "\n",
    "        all_out_spikes = torch.stack(all_out_spikes).transpose(0,1)\n",
    "\n",
    "        return all_out_spikes.sum(1), all_out_spikes"
   ]
  },
  {
   "cell_type": "code",
   "execution_count": 5,
   "metadata": {},
   "outputs": [],
   "source": [
    "def accuracy(preds, labels):\n",
    "    with torch.no_grad():\n",
    "        accuracy = 100 * (torch.argmax(preds, 1) == labels).float().sum() / len(labels)\n",
    "    return accuracy.detach().item()\n",
    "\n",
    "\n",
    "def binarize(data):\n",
    "    return (data > 0).float()"
   ]
  },
  {
   "cell_type": "code",
   "execution_count": 6,
   "metadata": {},
   "outputs": [],
   "source": [
    "import torchvision\n",
    "from datetime import datetime\n",
    "import torchvision.transforms as transforms\n",
    "from torch.utils.tensorboard import SummaryWriter\n",
    "\n",
    "batch_size = 128\n",
    "n_epochs = 20\n",
    "n_neurons = 512\n",
    "decay = 1.0\n",
    "\n",
    "randomize_vmem = True\n",
    "\n",
    "\n",
    "dataset = torchvision.datasets.MNIST(root=\"./\", train=False, download=True)\n",
    "device = (\n",
    "    torch.device(\"cuda:0\") if torch.cuda.is_available() else torch.device(\"cpu\")\n",
    ")\n",
    "\n",
    "# Convert to tensor and binarize them\n",
    "transform = transforms.Compose([transforms.ToTensor(), binarize, torch.squeeze])\n",
    "\n",
    "# Download and load training dataset\n",
    "trainset = torchvision.datasets.MNIST(\n",
    "    root=\"./\", train=True, download=True, transform=transform\n",
    ")\n",
    "trainloader = torch.utils.data.DataLoader(\n",
    "    trainset, batch_size=batch_size, shuffle=True, num_workers=8, drop_last=True\n",
    ")\n",
    "\n",
    "# download and load testing dataset\n",
    "testset = torchvision.datasets.MNIST(\n",
    "    root=\"./\", train=False, download=True, transform=transform\n",
    ")\n",
    "testloader = torch.utils.data.DataLoader(\n",
    "    testset, batch_size=batch_size, shuffle=False, num_workers=8, drop_last=True\n",
    ")"
   ]
  },
  {
   "cell_type": "code",
   "execution_count": 7,
   "metadata": {},
   "outputs": [],
   "source": [
    "rnn = MyRNN(n_neurons=n_neurons, decay=decay)"
   ]
  },
  {
   "cell_type": "code",
   "execution_count": 8,
   "metadata": {},
   "outputs": [
    {
     "data": {
      "application/vnd.jupyter.widget-view+json": {
       "model_id": "eeeef289586145d88068804a36455e30",
       "version_major": 2,
       "version_minor": 0
      },
      "text/plain": [
       "HBox(children=(FloatProgress(value=0.0, max=20.0), HTML(value='')))"
      ]
     },
     "metadata": {},
     "output_type": "display_data"
    },
    {
     "data": {
      "application/vnd.jupyter.widget-view+json": {
       "model_id": "cdf8cd5956e14f2fa5294ec65992629b",
       "version_major": 2,
       "version_minor": 0
      },
      "text/plain": [
       "HBox(children=(FloatProgress(value=0.0, max=468.0), HTML(value='')))"
      ]
     },
     "metadata": {},
     "output_type": "display_data"
    },
    {
     "name": "stdout",
     "output_type": "stream",
     "text": [
      "\n"
     ]
    },
    {
     "data": {
      "application/vnd.jupyter.widget-view+json": {
       "model_id": "acf0269ab10a478a8b00b784b8a96afc",
       "version_major": 2,
       "version_minor": 0
      },
      "text/plain": [
       "HBox(children=(FloatProgress(value=0.0, max=78.0), HTML(value='')))"
      ]
     },
     "metadata": {},
     "output_type": "display_data"
    },
    {
     "name": "stdout",
     "output_type": "stream",
     "text": [
      "\n"
     ]
    },
    {
     "data": {
      "application/vnd.jupyter.widget-view+json": {
       "model_id": "cdfd3b2f31b242989c31aedc29d76913",
       "version_major": 2,
       "version_minor": 0
      },
      "text/plain": [
       "HBox(children=(FloatProgress(value=0.0, max=468.0), HTML(value='')))"
      ]
     },
     "metadata": {},
     "output_type": "display_data"
    },
    {
     "name": "stdout",
     "output_type": "stream",
     "text": [
      "\n"
     ]
    },
    {
     "data": {
      "application/vnd.jupyter.widget-view+json": {
       "model_id": "51c45f77a9664cd8891395367d5cc5d6",
       "version_major": 2,
       "version_minor": 0
      },
      "text/plain": [
       "HBox(children=(FloatProgress(value=0.0, max=78.0), HTML(value='')))"
      ]
     },
     "metadata": {},
     "output_type": "display_data"
    },
    {
     "name": "stdout",
     "output_type": "stream",
     "text": [
      "\n"
     ]
    },
    {
     "data": {
      "application/vnd.jupyter.widget-view+json": {
       "model_id": "a8741d4662a54b198ad978fe032efd8d",
       "version_major": 2,
       "version_minor": 0
      },
      "text/plain": [
       "HBox(children=(FloatProgress(value=0.0, max=468.0), HTML(value='')))"
      ]
     },
     "metadata": {},
     "output_type": "display_data"
    },
    {
     "name": "stdout",
     "output_type": "stream",
     "text": [
      "\n"
     ]
    },
    {
     "data": {
      "application/vnd.jupyter.widget-view+json": {
       "model_id": "56b11a05a819418182236cfd72fecad8",
       "version_major": 2,
       "version_minor": 0
      },
      "text/plain": [
       "HBox(children=(FloatProgress(value=0.0, max=78.0), HTML(value='')))"
      ]
     },
     "metadata": {},
     "output_type": "display_data"
    },
    {
     "name": "stdout",
     "output_type": "stream",
     "text": [
      "\n"
     ]
    },
    {
     "data": {
      "application/vnd.jupyter.widget-view+json": {
       "model_id": "b7f37d432edd4de18129b9615ff8ec56",
       "version_major": 2,
       "version_minor": 0
      },
      "text/plain": [
       "HBox(children=(FloatProgress(value=0.0, max=468.0), HTML(value='')))"
      ]
     },
     "metadata": {},
     "output_type": "display_data"
    },
    {
     "name": "stdout",
     "output_type": "stream",
     "text": [
      "\n"
     ]
    },
    {
     "data": {
      "application/vnd.jupyter.widget-view+json": {
       "model_id": "3b207bf9ca9944bf8ae738d146bd5cbf",
       "version_major": 2,
       "version_minor": 0
      },
      "text/plain": [
       "HBox(children=(FloatProgress(value=0.0, max=78.0), HTML(value='')))"
      ]
     },
     "metadata": {},
     "output_type": "display_data"
    },
    {
     "name": "stdout",
     "output_type": "stream",
     "text": [
      "\n"
     ]
    },
    {
     "data": {
      "application/vnd.jupyter.widget-view+json": {
       "model_id": "3884500240664ef1b7e8d4a37a98610c",
       "version_major": 2,
       "version_minor": 0
      },
      "text/plain": [
       "HBox(children=(FloatProgress(value=0.0, max=468.0), HTML(value='')))"
      ]
     },
     "metadata": {},
     "output_type": "display_data"
    },
    {
     "name": "stdout",
     "output_type": "stream",
     "text": [
      "\n"
     ]
    },
    {
     "data": {
      "application/vnd.jupyter.widget-view+json": {
       "model_id": "80e86b49e4754c7c94bf0b8f39711cb0",
       "version_major": 2,
       "version_minor": 0
      },
      "text/plain": [
       "HBox(children=(FloatProgress(value=0.0, max=78.0), HTML(value='')))"
      ]
     },
     "metadata": {},
     "output_type": "display_data"
    },
    {
     "name": "stdout",
     "output_type": "stream",
     "text": [
      "\n"
     ]
    },
    {
     "data": {
      "application/vnd.jupyter.widget-view+json": {
       "model_id": "7d3ecfbfb4b345c08c1093cff25aa5d3",
       "version_major": 2,
       "version_minor": 0
      },
      "text/plain": [
       "HBox(children=(FloatProgress(value=0.0, max=468.0), HTML(value='')))"
      ]
     },
     "metadata": {},
     "output_type": "display_data"
    },
    {
     "name": "stdout",
     "output_type": "stream",
     "text": [
      "\n"
     ]
    },
    {
     "data": {
      "application/vnd.jupyter.widget-view+json": {
       "model_id": "96eac5533d0b4f09acb98f5b1305ae58",
       "version_major": 2,
       "version_minor": 0
      },
      "text/plain": [
       "HBox(children=(FloatProgress(value=0.0, max=78.0), HTML(value='')))"
      ]
     },
     "metadata": {},
     "output_type": "display_data"
    },
    {
     "name": "stdout",
     "output_type": "stream",
     "text": [
      "\n"
     ]
    },
    {
     "data": {
      "application/vnd.jupyter.widget-view+json": {
       "model_id": "fd1949634fbc4f3cbc904adc2e874d8d",
       "version_major": 2,
       "version_minor": 0
      },
      "text/plain": [
       "HBox(children=(FloatProgress(value=0.0, max=468.0), HTML(value='')))"
      ]
     },
     "metadata": {},
     "output_type": "display_data"
    },
    {
     "name": "stdout",
     "output_type": "stream",
     "text": [
      "\n"
     ]
    },
    {
     "data": {
      "application/vnd.jupyter.widget-view+json": {
       "model_id": "3f4c0d1394b04e4ba066086a1452a1e5",
       "version_major": 2,
       "version_minor": 0
      },
      "text/plain": [
       "HBox(children=(FloatProgress(value=0.0, max=78.0), HTML(value='')))"
      ]
     },
     "metadata": {},
     "output_type": "display_data"
    },
    {
     "name": "stdout",
     "output_type": "stream",
     "text": [
      "\n"
     ]
    },
    {
     "data": {
      "application/vnd.jupyter.widget-view+json": {
       "model_id": "e9b43800cb2c4926aeb8111dfe884185",
       "version_major": 2,
       "version_minor": 0
      },
      "text/plain": [
       "HBox(children=(FloatProgress(value=0.0, max=468.0), HTML(value='')))"
      ]
     },
     "metadata": {},
     "output_type": "display_data"
    },
    {
     "name": "stdout",
     "output_type": "stream",
     "text": [
      "\n"
     ]
    },
    {
     "data": {
      "application/vnd.jupyter.widget-view+json": {
       "model_id": "14507b2ffc37400f9ff5c8061b81214e",
       "version_major": 2,
       "version_minor": 0
      },
      "text/plain": [
       "HBox(children=(FloatProgress(value=0.0, max=78.0), HTML(value='')))"
      ]
     },
     "metadata": {},
     "output_type": "display_data"
    },
    {
     "name": "stdout",
     "output_type": "stream",
     "text": [
      "\n"
     ]
    },
    {
     "data": {
      "application/vnd.jupyter.widget-view+json": {
       "model_id": "56aef27e0c604861b6bab12574457ef4",
       "version_major": 2,
       "version_minor": 0
      },
      "text/plain": [
       "HBox(children=(FloatProgress(value=0.0, max=468.0), HTML(value='')))"
      ]
     },
     "metadata": {},
     "output_type": "display_data"
    },
    {
     "name": "stdout",
     "output_type": "stream",
     "text": [
      "\n"
     ]
    },
    {
     "data": {
      "application/vnd.jupyter.widget-view+json": {
       "model_id": "8eb700231c5f4c1b87013dd8f72fc3ee",
       "version_major": 2,
       "version_minor": 0
      },
      "text/plain": [
       "HBox(children=(FloatProgress(value=0.0, max=78.0), HTML(value='')))"
      ]
     },
     "metadata": {},
     "output_type": "display_data"
    },
    {
     "name": "stdout",
     "output_type": "stream",
     "text": [
      "\n"
     ]
    },
    {
     "data": {
      "application/vnd.jupyter.widget-view+json": {
       "model_id": "1a1f558ad5d64f0aa4cb33e31239d3cb",
       "version_major": 2,
       "version_minor": 0
      },
      "text/plain": [
       "HBox(children=(FloatProgress(value=0.0, max=468.0), HTML(value='')))"
      ]
     },
     "metadata": {},
     "output_type": "display_data"
    },
    {
     "name": "stdout",
     "output_type": "stream",
     "text": [
      "\n"
     ]
    },
    {
     "data": {
      "application/vnd.jupyter.widget-view+json": {
       "model_id": "0f69ba74078b4404919cc8aa5471d1d0",
       "version_major": 2,
       "version_minor": 0
      },
      "text/plain": [
       "HBox(children=(FloatProgress(value=0.0, max=78.0), HTML(value='')))"
      ]
     },
     "metadata": {},
     "output_type": "display_data"
    },
    {
     "name": "stdout",
     "output_type": "stream",
     "text": [
      "\n"
     ]
    },
    {
     "data": {
      "application/vnd.jupyter.widget-view+json": {
       "model_id": "8361774c6368468fa65abe801ad2040d",
       "version_major": 2,
       "version_minor": 0
      },
      "text/plain": [
       "HBox(children=(FloatProgress(value=0.0, max=468.0), HTML(value='')))"
      ]
     },
     "metadata": {},
     "output_type": "display_data"
    },
    {
     "name": "stdout",
     "output_type": "stream",
     "text": [
      "\n"
     ]
    },
    {
     "data": {
      "application/vnd.jupyter.widget-view+json": {
       "model_id": "309f4c504868495bb7d1d20998805ea2",
       "version_major": 2,
       "version_minor": 0
      },
      "text/plain": [
       "HBox(children=(FloatProgress(value=0.0, max=78.0), HTML(value='')))"
      ]
     },
     "metadata": {},
     "output_type": "display_data"
    },
    {
     "name": "stdout",
     "output_type": "stream",
     "text": [
      "\n"
     ]
    },
    {
     "data": {
      "application/vnd.jupyter.widget-view+json": {
       "model_id": "0408aee3b1c443978b092977cfcd4954",
       "version_major": 2,
       "version_minor": 0
      },
      "text/plain": [
       "HBox(children=(FloatProgress(value=0.0, max=468.0), HTML(value='')))"
      ]
     },
     "metadata": {},
     "output_type": "display_data"
    },
    {
     "name": "stdout",
     "output_type": "stream",
     "text": [
      "\n"
     ]
    },
    {
     "data": {
      "application/vnd.jupyter.widget-view+json": {
       "model_id": "54c3ca93c9cf49c4931d34efb1c368bb",
       "version_major": 2,
       "version_minor": 0
      },
      "text/plain": [
       "HBox(children=(FloatProgress(value=0.0, max=78.0), HTML(value='')))"
      ]
     },
     "metadata": {},
     "output_type": "display_data"
    },
    {
     "name": "stdout",
     "output_type": "stream",
     "text": [
      "\n"
     ]
    },
    {
     "data": {
      "application/vnd.jupyter.widget-view+json": {
       "model_id": "220867f1da1c4753913d02374ad01d36",
       "version_major": 2,
       "version_minor": 0
      },
      "text/plain": [
       "HBox(children=(FloatProgress(value=0.0, max=468.0), HTML(value='')))"
      ]
     },
     "metadata": {},
     "output_type": "display_data"
    },
    {
     "name": "stdout",
     "output_type": "stream",
     "text": [
      "\n"
     ]
    },
    {
     "data": {
      "application/vnd.jupyter.widget-view+json": {
       "model_id": "1c19919ea35f4df9a4a9b99e6f6d0cda",
       "version_major": 2,
       "version_minor": 0
      },
      "text/plain": [
       "HBox(children=(FloatProgress(value=0.0, max=78.0), HTML(value='')))"
      ]
     },
     "metadata": {},
     "output_type": "display_data"
    },
    {
     "name": "stdout",
     "output_type": "stream",
     "text": [
      "\n"
     ]
    },
    {
     "data": {
      "application/vnd.jupyter.widget-view+json": {
       "model_id": "9b1b0f610c624facae4b693611167e29",
       "version_major": 2,
       "version_minor": 0
      },
      "text/plain": [
       "HBox(children=(FloatProgress(value=0.0, max=468.0), HTML(value='')))"
      ]
     },
     "metadata": {},
     "output_type": "display_data"
    },
    {
     "name": "stdout",
     "output_type": "stream",
     "text": [
      "\n"
     ]
    },
    {
     "data": {
      "application/vnd.jupyter.widget-view+json": {
       "model_id": "c54992f5626e43c49cba340e721a009c",
       "version_major": 2,
       "version_minor": 0
      },
      "text/plain": [
       "HBox(children=(FloatProgress(value=0.0, max=78.0), HTML(value='')))"
      ]
     },
     "metadata": {},
     "output_type": "display_data"
    },
    {
     "name": "stdout",
     "output_type": "stream",
     "text": [
      "\n"
     ]
    },
    {
     "data": {
      "application/vnd.jupyter.widget-view+json": {
       "model_id": "3a0d270bbf5b4994b0fa1430d97f5aad",
       "version_major": 2,
       "version_minor": 0
      },
      "text/plain": [
       "HBox(children=(FloatProgress(value=0.0, max=468.0), HTML(value='')))"
      ]
     },
     "metadata": {},
     "output_type": "display_data"
    },
    {
     "name": "stdout",
     "output_type": "stream",
     "text": [
      "\n"
     ]
    },
    {
     "data": {
      "application/vnd.jupyter.widget-view+json": {
       "model_id": "b75229bb07e0491eb2f231459e39722a",
       "version_major": 2,
       "version_minor": 0
      },
      "text/plain": [
       "HBox(children=(FloatProgress(value=0.0, max=78.0), HTML(value='')))"
      ]
     },
     "metadata": {},
     "output_type": "display_data"
    },
    {
     "name": "stdout",
     "output_type": "stream",
     "text": [
      "\n"
     ]
    },
    {
     "data": {
      "application/vnd.jupyter.widget-view+json": {
       "model_id": "0c573c209d68471fb48059c8d9f96abe",
       "version_major": 2,
       "version_minor": 0
      },
      "text/plain": [
       "HBox(children=(FloatProgress(value=0.0, max=468.0), HTML(value='')))"
      ]
     },
     "metadata": {},
     "output_type": "display_data"
    },
    {
     "name": "stdout",
     "output_type": "stream",
     "text": [
      "\n"
     ]
    },
    {
     "data": {
      "application/vnd.jupyter.widget-view+json": {
       "model_id": "bad933f476474f64af1cbe1229a324c9",
       "version_major": 2,
       "version_minor": 0
      },
      "text/plain": [
       "HBox(children=(FloatProgress(value=0.0, max=78.0), HTML(value='')))"
      ]
     },
     "metadata": {},
     "output_type": "display_data"
    },
    {
     "name": "stdout",
     "output_type": "stream",
     "text": [
      "\n"
     ]
    },
    {
     "data": {
      "application/vnd.jupyter.widget-view+json": {
       "model_id": "c12842fb9c8a4bf7bc3f7b9cbbc29b77",
       "version_major": 2,
       "version_minor": 0
      },
      "text/plain": [
       "HBox(children=(FloatProgress(value=0.0, max=468.0), HTML(value='')))"
      ]
     },
     "metadata": {},
     "output_type": "display_data"
    },
    {
     "name": "stdout",
     "output_type": "stream",
     "text": [
      "\n"
     ]
    },
    {
     "data": {
      "application/vnd.jupyter.widget-view+json": {
       "model_id": "e3f2df3938504ed793b14460e1a2a392",
       "version_major": 2,
       "version_minor": 0
      },
      "text/plain": [
       "HBox(children=(FloatProgress(value=0.0, max=78.0), HTML(value='')))"
      ]
     },
     "metadata": {},
     "output_type": "display_data"
    },
    {
     "name": "stdout",
     "output_type": "stream",
     "text": [
      "\n"
     ]
    },
    {
     "data": {
      "application/vnd.jupyter.widget-view+json": {
       "model_id": "669aae052a694443af1b1489c001d772",
       "version_major": 2,
       "version_minor": 0
      },
      "text/plain": [
       "HBox(children=(FloatProgress(value=0.0, max=468.0), HTML(value='')))"
      ]
     },
     "metadata": {},
     "output_type": "display_data"
    },
    {
     "name": "stdout",
     "output_type": "stream",
     "text": [
      "\n"
     ]
    },
    {
     "data": {
      "application/vnd.jupyter.widget-view+json": {
       "model_id": "2bd9047a96c742b2adf9fb1e8cce656f",
       "version_major": 2,
       "version_minor": 0
      },
      "text/plain": [
       "HBox(children=(FloatProgress(value=0.0, max=78.0), HTML(value='')))"
      ]
     },
     "metadata": {},
     "output_type": "display_data"
    },
    {
     "name": "stdout",
     "output_type": "stream",
     "text": [
      "\n"
     ]
    },
    {
     "data": {
      "application/vnd.jupyter.widget-view+json": {
       "model_id": "64cc7c27690149f6b0d2b9fb246fd8a4",
       "version_major": 2,
       "version_minor": 0
      },
      "text/plain": [
       "HBox(children=(FloatProgress(value=0.0, max=468.0), HTML(value='')))"
      ]
     },
     "metadata": {},
     "output_type": "display_data"
    },
    {
     "name": "stdout",
     "output_type": "stream",
     "text": [
      "\n"
     ]
    },
    {
     "data": {
      "application/vnd.jupyter.widget-view+json": {
       "model_id": "af7be1f663c145ceaf1d5739c847a8be",
       "version_major": 2,
       "version_minor": 0
      },
      "text/plain": [
       "HBox(children=(FloatProgress(value=0.0, max=78.0), HTML(value='')))"
      ]
     },
     "metadata": {},
     "output_type": "display_data"
    },
    {
     "name": "stdout",
     "output_type": "stream",
     "text": [
      "\n"
     ]
    },
    {
     "data": {
      "application/vnd.jupyter.widget-view+json": {
       "model_id": "9397c70118364fbeb4d6a00a84acf1da",
       "version_major": 2,
       "version_minor": 0
      },
      "text/plain": [
       "HBox(children=(FloatProgress(value=0.0, max=468.0), HTML(value='')))"
      ]
     },
     "metadata": {},
     "output_type": "display_data"
    },
    {
     "name": "stdout",
     "output_type": "stream",
     "text": [
      "\n"
     ]
    },
    {
     "data": {
      "application/vnd.jupyter.widget-view+json": {
       "model_id": "a8593dde1da449bda30a27b0cf689fe4",
       "version_major": 2,
       "version_minor": 0
      },
      "text/plain": [
       "HBox(children=(FloatProgress(value=0.0, max=78.0), HTML(value='')))"
      ]
     },
     "metadata": {},
     "output_type": "display_data"
    },
    {
     "name": "stdout",
     "output_type": "stream",
     "text": [
      "\n",
      "\n"
     ]
    }
   ],
   "source": [
    "#torch.autograd.set_detect_anomaly(True)\n",
    "\n",
    "# Training parameters\n",
    "criterion = nn.CrossEntropyLoss()\n",
    "optimizer = torch.optim.Adam(rnn.parameters(), lr=1e-4)\n",
    "\n",
    "# try:\n",
    "#    params = torch.load(\"trained/srnn_mnist_19-09-14-22:09.pt\")\n",
    "#    rnn.load_state_dict(params['model_state_dict'])\n",
    "# except FileNotFoundError as e:\n",
    "#    pass\n",
    "rnn.to(device)\n",
    "\n",
    "# Log data of the experiment\n",
    "writer = SummaryWriter()\n",
    "save_path = writer.get_logdir()\n",
    "\n",
    "pbar_epoch = tqdm(range(n_epochs))\n",
    "for epoch in pbar_epoch:\n",
    "    running_loss = 0\n",
    "    running_accuracy = []\n",
    "\n",
    "    # Training dataset\n",
    "    for data in tqdm(trainloader):\n",
    "        optimizer.zero_grad()\n",
    "        rnn.init_states(randomize=randomize_vmem, batch_size=batch_size)\n",
    "        imgs, labels = data\n",
    "        imgs = imgs.to(device)\n",
    "        labels = labels.to(device)\n",
    "\n",
    "        out, _ = rnn(imgs)\n",
    "\n",
    "        loss = criterion(out, labels)\n",
    "        loss.backward()\n",
    "\n",
    "        optimizer.step()\n",
    "\n",
    "        running_accuracy.append(accuracy(out, labels))\n",
    "\n",
    "        running_loss += loss.detach().item()\n",
    "\n",
    "    # Test dataset\n",
    "    with torch.no_grad():\n",
    "        test_accuracy = []\n",
    "        for data in tqdm(testloader):\n",
    "            rnn.init_states(randomize=randomize_vmem, batch_size=batch_size)\n",
    "            imgs, labels = data\n",
    "            imgs = imgs.to(device)\n",
    "            labels = labels.to(device)\n",
    "            out, spikes_out = rnn(imgs)\n",
    "            test_accuracy.append(accuracy(out, labels))\n",
    "\n",
    "        pbar_epoch.set_postfix(\n",
    "            loss=loss.item(),\n",
    "            weights=[p.abs().mean().item() for p in rnn.parameters()],\n",
    "            train_accuracy=np.mean(running_accuracy),\n",
    "            test_accuracy=np.mean(test_accuracy),\n",
    "        )\n",
    "\n",
    "        params = list(rnn.parameters())\n",
    "        writer.add_scalars(\n",
    "            \"Accuracy\",\n",
    "            {\"train\": np.mean(running_accuracy), \"test\": np.mean(test_accuracy)},\n",
    "            epoch,\n",
    "        )\n",
    "        writer.add_scalar(\"Weight/Input\", params[0].abs().mean().item(), epoch)\n",
    "        writer.add_scalar(\"Weight/Recurrent\", params[1].abs().mean().item(), epoch)\n",
    "        writer.add_scalar(\"Weight/Output\", params[2].abs().mean().item(), epoch)\n",
    "        writer.flush()\n",
    "writer.close()"
   ]
  },
  {
   "cell_type": "code",
   "execution_count": 9,
   "metadata": {},
   "outputs": [
    {
     "name": "stderr",
     "output_type": "stream",
     "text": [
      "ERROR:root:No traceback has been produced, nothing to debug.\n"
     ]
    }
   ],
   "source": [
    "%debug"
   ]
  },
  {
   "cell_type": "code",
   "execution_count": null,
   "metadata": {},
   "outputs": [],
   "source": []
  }
 ],
 "metadata": {
  "kernelspec": {
   "display_name": "Python 3",
   "language": "python",
   "name": "python3"
  },
  "language_info": {
   "codemirror_mode": {
    "name": "ipython",
    "version": 3
   },
   "file_extension": ".py",
   "mimetype": "text/x-python",
   "name": "python",
   "nbconvert_exporter": "python",
   "pygments_lexer": "ipython3",
   "version": "3.7.5"
  }
 },
 "nbformat": 4,
 "nbformat_minor": 4
}
