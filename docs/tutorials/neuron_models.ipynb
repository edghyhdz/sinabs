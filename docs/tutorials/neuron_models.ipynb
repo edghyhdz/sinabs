{
 "cells": [
  {
   "cell_type": "markdown",
   "metadata": {},
   "source": [
    "# Choosing a neuron model"
   ]
  },
  {
   "cell_type": "code",
   "execution_count": null,
   "metadata": {},
   "outputs": [],
   "source": [
    "import sinabs\n",
    "import sinabs.layers as sl\n",
    "import torch\n",
    "import matplotlib.pyplot as plt"
   ]
  },
  {
   "cell_type": "markdown",
   "metadata": {},
   "source": [
    "Let's start by creating a helpful plotting function and some constant current input."
   ]
  },
  {
   "cell_type": "code",
   "execution_count": null,
   "metadata": {},
   "outputs": [],
   "source": [
    "def plot_evolution(neuron_model: sinabs.layers, input: torch.Tensor):\n",
    "    neuron_model.reset_states()\n",
    "    v_mem = []\n",
    "    spikes = []\n",
    "    i_syn = []\n",
    "    thresholds = []\n",
    "    for step in range(input.shape[1]):\n",
    "        output = neuron_model(input[:, step])\n",
    "        v_mem.append(neuron_model.v_mem)\n",
    "        spikes.append(output)\n",
    "        if hasattr(neuron_model, \"i_syn\") and neuron_model.i_syn:\n",
    "            i_syn.append(neuron_model.i_syn)\n",
    "        if neuron_model.spike_threshold:\n",
    "            thresholds.append(torch.as_tensor(neuron_model.spike_threshold))\n",
    "\n",
    "    plt.figure(figsize=(10, 3))\n",
    "    v_mem = torch.cat(v_mem).detach().numpy()\n",
    "    plt.plot(v_mem, drawstyle=\"steps-post\", label=\"v_mem\")\n",
    "\n",
    "    if neuron_model.spike_fn:\n",
    "        spikes = torch.cat(spikes).detach().numpy()\n",
    "        thresholds = torch.stack(thresholds).detach().numpy()\n",
    "        plt.plot(thresholds, \"--\", label=\"spike threshold\")\n",
    "        plt.plot(spikes, label=\"output\", drawstyle=\"steps\", color=\"black\")\n",
    "\n",
    "    if len(i_syn) > 0:\n",
    "        i_syn = torch.cat(i_syn).detach().numpy()\n",
    "        plt.plot(i_syn, drawstyle=\"steps-post\", linewidth=3, label=\"i_syn\", color=\"C6\")\n",
    "\n",
    "    plt.xlabel(\"time\")\n",
    "    plt.title(f\"{neuron_model.__class__.__name__} neuron dynamics\")\n",
    "    plt.legend()\n",
    "\n",
    "\n",
    "const_current = torch.ones((1, 100, 1)) * 0.03\n",
    "single_current = torch.zeros((1, 100, 1))\n",
    "single_current[:, 0] = 0.1"
   ]
  },
  {
   "cell_type": "markdown",
   "metadata": {},
   "source": [
    "## Integrate and Fire neuron\n",
    "This neuron has no leakage and simply integrates all the input it receives. It emits a spike whenever the membrane potential is above the spike threshold."
   ]
  },
  {
   "cell_type": "code",
   "execution_count": null,
   "metadata": {},
   "outputs": [],
   "source": [
    "iaf_neuron = sl.IAF()\n",
    "plot_evolution(iaf_neuron, const_current)"
   ]
  },
  {
   "cell_type": "markdown",
   "metadata": {},
   "source": [
    "We can activate synaptic currents in this neuron model by setting `tau_syn`. All inputs will be integrated to its i_syn state, which will then be decayed and added to the membrane potential at every step. In the following plot we only provide an input at the first time step."
   ]
  },
  {
   "cell_type": "code",
   "execution_count": null,
   "metadata": {},
   "outputs": [],
   "source": [
    "iaf_neuron = sl.IAF(tau_syn=15.0)\n",
    "plot_evolution(iaf_neuron, single_current)"
   ]
  },
  {
   "cell_type": "markdown",
   "metadata": {},
   "source": [
    "## Leaky Integrate and Fire neuron\n",
    "This neuron integrates the input and decays its state at every time step."
   ]
  },
  {
   "cell_type": "code",
   "execution_count": null,
   "metadata": {},
   "outputs": [],
   "source": [
    "lif_neuron = sl.LIF(tau_mem=40.0, norm_input=False)\n",
    "plot_evolution(lif_neuron, const_current)"
   ]
  },
  {
   "cell_type": "markdown",
   "metadata": {},
   "source": [
    "By default, no synaptic dynamics are used. We can enable that by setting tau_syn. Note that instead of a constant current, we now provide input only at the first time step. "
   ]
  },
  {
   "cell_type": "code",
   "execution_count": null,
   "metadata": {},
   "outputs": [],
   "source": [
    "lif_neuron = sl.LIF(tau_mem=40.0, tau_syn=30.0, norm_input=False)\n",
    "plot_evolution(lif_neuron, single_current)"
   ]
  },
  {
   "cell_type": "markdown",
   "metadata": {},
   "source": [
    "## Leaky Integrator neuron\n",
    "Same as LIF, just without activation function."
   ]
  },
  {
   "cell_type": "code",
   "execution_count": null,
   "metadata": {},
   "outputs": [],
   "source": [
    "exp_leak_neuron = sl.ExpLeak(tau_mem=60.0)\n",
    "plot_evolution(exp_leak_neuron, const_current)"
   ]
  },
  {
   "cell_type": "markdown",
   "metadata": {},
   "source": [
    "## Adaptive Leaky Integrate and Fire neuron\n",
    "This is a LIF neuron with an adaptive threshold."
   ]
  },
  {
   "cell_type": "code",
   "execution_count": null,
   "metadata": {},
   "outputs": [],
   "source": [
    "alif_neuron = sl.ALIF(tau_mem=40.0, tau_adapt=40.0, adapt_scale=20, norm_input=False)\n",
    "plot_evolution(alif_neuron, const_current * 4)"
   ]
  },
  {
   "cell_type": "code",
   "execution_count": null,
   "metadata": {},
   "outputs": [],
   "source": []
  }
 ],
 "metadata": {
  "interpreter": {
   "hash": "5931241afb711235dda64ee4fe99a453ecee36036d1d9ee62f788faeb386adff"
  },
  "kernelspec": {
   "display_name": "Python 3.7.11 ('base')",
   "language": "python",
   "name": "python3"
  },
  "language_info": {
   "codemirror_mode": {
    "name": "ipython",
    "version": 3
   },
   "file_extension": ".py",
   "mimetype": "text/x-python",
   "name": "python",
   "nbconvert_exporter": "python",
   "pygments_lexer": "ipython3",
   "version": "3.8.8"
  }
 },
 "nbformat": 4,
 "nbformat_minor": 2
}
